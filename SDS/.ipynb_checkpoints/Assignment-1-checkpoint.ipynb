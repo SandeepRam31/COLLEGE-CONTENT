{
 "cells": [
  {
   "cell_type": "markdown",
   "id": "6bbaaa01",
   "metadata": {},
   "source": [
    "# ASSIGNMENT-1\n",
    "\n",
    "**TASK**: Scrape the reviewers, ratings, review titles and review descriptions for a given amazon product.\n",
    "<br/>\n",
    "This notebook scrapes the required information from [Apple iPhone 11 (128GB)](https://www.amazon.in/New-Apple-iPhone-11-128GB/dp/B08L8CXFZ1/ref=sr_1_1_sspa?crid=3O7I3JFCHOEED&keywords=iphone&qid=1661056050&sprefix=iphon%2Caps%2C270&sr=8-1-spons&spLa=ZW5jcnlwdGVkUXVhbGlmaWVyPUEzODlJS1lGNzVHWlcyJmVuY3J5cHRlZElkPUEwNTA1OTMyWTZZRTREOUxCV0w4JmVuY3J5cHRlZEFkSWQ9QTA0ODkwNjkzTlozNEZIOVJMTUxZJndpZGdldE5hbWU9c3BfYXRmJmFjdGlvbj1jbGlja1JlZGlyZWN0JmRvTm90TG9nQ2xpY2s9dHJ1ZQ&th=1) from amazon.\n",
    "We will be using modules:\n",
    "* [Pandas](https://pandas.pydata.org/docs/)\n",
    "* [Requests](https://requests.readthedocs.io/en/latest/)\n",
    "* [Beautiful Soup](https://beautiful-soup-4.readthedocs.io/en/latest/)\n",
    "\n",
    "\n",
    "**NOTE** : This notebook was coded on 21st August 2022. The above mentioned amazon link may or maynot be depreciated/taken down later. Re-running the code-cells at that time would give a Response<503> or other errors when trying to request the link. Please change the link if needed in such cases"
   ]
  },
  {
   "cell_type": "markdown",
   "id": "e3f4d6dc",
   "metadata": {},
   "source": [
    "### IMPORT NECCESSARY MODULES:"
   ]
  },
  {
   "cell_type": "code",
   "execution_count": 1,
   "id": "74cfd8c9",
   "metadata": {},
   "outputs": [],
   "source": [
    "import pandas as pd\n",
    "import requests\n",
    "import bs4"
   ]
  },
  {
   "cell_type": "markdown",
   "id": "33d03347",
   "metadata": {},
   "source": [
    "### GET THE HTML OF THE WEBSITE"
   ]
  },
  {
   "cell_type": "code",
   "execution_count": 2,
   "id": "0322ca61",
   "metadata": {},
   "outputs": [],
   "source": [
    "link = '''https://www.amazon.in/New-Apple-iPhone-11-128GB/dp/B08L8CXFZ1/ref=sr_1_1_sspa?crid=3O7I3JFCHOEED&keywords=iphone\\\n",
    "&qid=1661056050&sprefix=iphon%2Caps%2C270&sr=8-1-spons&spLa=ZW5jcnlwdGVkUXVhbGlmaWVyPUEzODlJS1lGNzVHWlcyJmVuY3J5cHRlZElkPUE\\\n",
    "wNTA1OTMyWTZZRTREOUxCV0w4JmVuY3J5cHRlZEFkSWQ9QTA0ODkwNjkzTlozNEZIOVJMTUxZJndpZGdldE5hbWU9c3BfYXRmJmFjdGlvbj1jbGlja1JlZGlyZW\\\n",
    "N0JmRvTm90TG9nQ2xpY2s9dHJ1ZQ&th=1'''"
   ]
  },
  {
   "cell_type": "code",
   "execution_count": 3,
   "id": "a3913fc6",
   "metadata": {},
   "outputs": [],
   "source": [
    "header = {\"user-agent\": \"Mozilla/5.0 (Windows NT 10.0; Win64; x64) AppleWebKit/537.36 (KHTML, like Gecko) Chrome/74.0.3729.169 Safari/537.36\" ,'referer':'https://www.google.com/'}\n",
    "request = requests.get(link, headers=header)"
   ]
  },
  {
   "cell_type": "code",
   "execution_count": 4,
   "id": "8914a084",
   "metadata": {},
   "outputs": [],
   "source": [
    "soup = bs4.BeautifulSoup(request.text, 'html.parser')"
   ]
  },
  {
   "cell_type": "markdown",
   "id": "293dface",
   "metadata": {},
   "source": [
    "### GET REVIEW NAMES"
   ]
  },
  {
   "cell_type": "code",
   "execution_count": 5,
   "id": "b762a583",
   "metadata": {},
   "outputs": [],
   "source": [
    "names = soup.find_all(class_=\"a-profile-name\")\n",
    "names = [name.text for name in names[1:]]"
   ]
  },
  {
   "cell_type": "code",
   "execution_count": 6,
   "id": "1861eb8b",
   "metadata": {},
   "outputs": [
    {
     "data": {
      "text/plain": [
       "['Aishwarya',\n",
       " 'Vishal',\n",
       " 'Santosh',\n",
       " 'Bhawna Dhingra',\n",
       " 'Amazon Customer',\n",
       " 'Achal PH',\n",
       " 'Sandeep Jain',\n",
       " 'Amazon Customer']"
      ]
     },
     "execution_count": 6,
     "metadata": {},
     "output_type": "execute_result"
    }
   ],
   "source": [
    "names"
   ]
  },
  {
   "cell_type": "code",
   "execution_count": 7,
   "id": "b1799aa6",
   "metadata": {},
   "outputs": [
    {
     "data": {
      "text/plain": [
       "8"
      ]
     },
     "execution_count": 7,
     "metadata": {},
     "output_type": "execute_result"
    }
   ],
   "source": [
    "len(names)"
   ]
  },
  {
   "cell_type": "markdown",
   "id": "76545546",
   "metadata": {},
   "source": [
    "### GET REVIEW TITLE"
   ]
  },
  {
   "cell_type": "code",
   "execution_count": 8,
   "id": "4bae971d",
   "metadata": {},
   "outputs": [],
   "source": [
    "titles = soup.find_all(class_ = \"a-size-base a-link-normal review-title a-color-base review-title-content a-text-bold\")\n",
    "titles = [title.text.strip('\\n') for title in titles]"
   ]
  },
  {
   "cell_type": "code",
   "execution_count": 9,
   "id": "bd6aa788",
   "metadata": {},
   "outputs": [
    {
     "data": {
      "text/plain": [
       "[\"Don't buy from Appario Reseller\",\n",
       " 'Look likes Chinese mobile phone {waste of my hardships}',\n",
       " 'Very bad experience from Amazon',\n",
       " 'worst product worst service',\n",
       " 'Refurbished',\n",
       " 'With a new design and good features',\n",
       " 'Old DEAD Stock of iPhones being sold on Amazon',\n",
       " 'Received faulty phone']"
      ]
     },
     "execution_count": 9,
     "metadata": {},
     "output_type": "execute_result"
    }
   ],
   "source": [
    "titles"
   ]
  },
  {
   "cell_type": "code",
   "execution_count": 10,
   "id": "d91823fa",
   "metadata": {},
   "outputs": [
    {
     "data": {
      "text/plain": [
       "8"
      ]
     },
     "execution_count": 10,
     "metadata": {},
     "output_type": "execute_result"
    }
   ],
   "source": [
    "len(titles)"
   ]
  },
  {
   "cell_type": "markdown",
   "id": "2f8e650f",
   "metadata": {},
   "source": [
    "### GET REVIEW RATINGS"
   ]
  },
  {
   "cell_type": "code",
   "execution_count": 11,
   "id": "e081085c",
   "metadata": {},
   "outputs": [],
   "source": [
    "ratings = soup.find_all(class_=\"a-section review aok-relative\")\n",
    "ratings = [rating.find_all(class_=\"a-row\") for rating in ratings]\n",
    "ratings = [ratings[i][2].text.split('\\n')[0] for i in range(len(ratings))]"
   ]
  },
  {
   "cell_type": "code",
   "execution_count": 12,
   "id": "e91cb4ef",
   "metadata": {},
   "outputs": [
    {
     "data": {
      "text/plain": [
       "['1.0 out of 5 stars',\n",
       " '1.0 out of 5 stars',\n",
       " '1.0 out of 5 stars',\n",
       " '1.0 out of 5 stars',\n",
       " '1.0 out of 5 stars',\n",
       " '5.0 out of 5 stars',\n",
       " '1.0 out of 5 stars',\n",
       " '1.0 out of 5 stars']"
      ]
     },
     "execution_count": 12,
     "metadata": {},
     "output_type": "execute_result"
    }
   ],
   "source": [
    "ratings"
   ]
  },
  {
   "cell_type": "code",
   "execution_count": 13,
   "id": "2fa264d6",
   "metadata": {},
   "outputs": [
    {
     "data": {
      "text/plain": [
       "8"
      ]
     },
     "execution_count": 13,
     "metadata": {},
     "output_type": "execute_result"
    }
   ],
   "source": [
    "len(ratings)"
   ]
  },
  {
   "cell_type": "markdown",
   "id": "c6552597",
   "metadata": {},
   "source": [
    "### GET REVIEW DESCRIPTION"
   ]
  },
  {
   "cell_type": "code",
   "execution_count": 14,
   "id": "42570971",
   "metadata": {},
   "outputs": [],
   "source": [
    "desc = soup.find_all(class_=\"a-expander-content reviewText review-text-content a-expander-partial-collapse-content\")\n",
    "desc = [d.text.strip('\\n') for d in desc]"
   ]
  },
  {
   "cell_type": "code",
   "execution_count": 15,
   "id": "dae541a4",
   "metadata": {},
   "outputs": [
    {
     "data": {
      "text/plain": [
       "8"
      ]
     },
     "execution_count": 15,
     "metadata": {},
     "output_type": "execute_result"
    }
   ],
   "source": [
    "len(desc)"
   ]
  },
  {
   "cell_type": "markdown",
   "id": "1ddbe488",
   "metadata": {},
   "source": [
    "### CREATE AND SAVE PANDAS DATAFRAME \n",
    "The dataframe will be stored to an excel sheet called amazon-reviews.xlsx in the same directory as the jupyter notebook"
   ]
  },
  {
   "cell_type": "code",
   "execution_count": 16,
   "id": "ecae8a1e",
   "metadata": {},
   "outputs": [],
   "source": [
    "data = {\n",
    "    'name': names,\n",
    "    'review_title': titles,\n",
    "    'review_ratings': ratings,\n",
    "    'description': desc\n",
    "}"
   ]
  },
  {
   "cell_type": "code",
   "execution_count": 17,
   "id": "e06c7203",
   "metadata": {},
   "outputs": [],
   "source": [
    "data = pd.DataFrame(data)"
   ]
  },
  {
   "cell_type": "code",
   "execution_count": 18,
   "id": "d9f9e51b",
   "metadata": {},
   "outputs": [
    {
     "data": {
      "text/html": [
       "<div>\n",
       "<style scoped>\n",
       "    .dataframe tbody tr th:only-of-type {\n",
       "        vertical-align: middle;\n",
       "    }\n",
       "\n",
       "    .dataframe tbody tr th {\n",
       "        vertical-align: top;\n",
       "    }\n",
       "\n",
       "    .dataframe thead th {\n",
       "        text-align: right;\n",
       "    }\n",
       "</style>\n",
       "<table border=\"1\" class=\"dataframe\">\n",
       "  <thead>\n",
       "    <tr style=\"text-align: right;\">\n",
       "      <th></th>\n",
       "      <th>name</th>\n",
       "      <th>review_title</th>\n",
       "      <th>review_ratings</th>\n",
       "      <th>description</th>\n",
       "    </tr>\n",
       "  </thead>\n",
       "  <tbody>\n",
       "    <tr>\n",
       "      <th>0</th>\n",
       "      <td>Aishwarya</td>\n",
       "      <td>Don't buy from Appario Reseller</td>\n",
       "      <td>1.0 out of 5 stars</td>\n",
       "      <td>Bought iPhone from seller Appario Retail. Phon...</td>\n",
       "    </tr>\n",
       "    <tr>\n",
       "      <th>1</th>\n",
       "      <td>Vishal</td>\n",
       "      <td>Look likes Chinese mobile phone {waste of my h...</td>\n",
       "      <td>1.0 out of 5 stars</td>\n",
       "      <td>This I phone11 model {black} looks like Chines...</td>\n",
       "    </tr>\n",
       "    <tr>\n",
       "      <th>2</th>\n",
       "      <td>Santosh</td>\n",
       "      <td>Very bad experience from Amazon</td>\n",
       "      <td>1.0 out of 5 stars</td>\n",
       "      <td>The media could not be loa...</td>\n",
       "    </tr>\n",
       "    <tr>\n",
       "      <th>3</th>\n",
       "      <td>Bhawna Dhingra</td>\n",
       "      <td>worst product worst service</td>\n",
       "      <td>1.0 out of 5 stars</td>\n",
       "      <td>worst phone and worst service..I bought from a...</td>\n",
       "    </tr>\n",
       "    <tr>\n",
       "      <th>4</th>\n",
       "      <td>Amazon Customer</td>\n",
       "      <td>Refurbished</td>\n",
       "      <td>1.0 out of 5 stars</td>\n",
       "      <td>The media could not be loa...</td>\n",
       "    </tr>\n",
       "  </tbody>\n",
       "</table>\n",
       "</div>"
      ],
      "text/plain": [
       "              name                                       review_title  \\\n",
       "0        Aishwarya                    Don't buy from Appario Reseller   \n",
       "1           Vishal  Look likes Chinese mobile phone {waste of my h...   \n",
       "2          Santosh                    Very bad experience from Amazon   \n",
       "3   Bhawna Dhingra                        worst product worst service   \n",
       "4  Amazon Customer                                        Refurbished   \n",
       "\n",
       "       review_ratings                                        description  \n",
       "0  1.0 out of 5 stars  Bought iPhone from seller Appario Retail. Phon...  \n",
       "1  1.0 out of 5 stars  This I phone11 model {black} looks like Chines...  \n",
       "2  1.0 out of 5 stars                      The media could not be loa...  \n",
       "3  1.0 out of 5 stars  worst phone and worst service..I bought from a...  \n",
       "4  1.0 out of 5 stars                      The media could not be loa...  "
      ]
     },
     "execution_count": 18,
     "metadata": {},
     "output_type": "execute_result"
    }
   ],
   "source": [
    "data.head()"
   ]
  },
  {
   "cell_type": "code",
   "execution_count": 19,
   "id": "a7bcfda5",
   "metadata": {},
   "outputs": [],
   "source": [
    "data.to_excel('amazon-reviews.xlsx', index = False)"
   ]
  }
 ],
 "metadata": {
  "kernelspec": {
   "display_name": "college",
   "language": "python",
   "name": "college"
  },
  "language_info": {
   "codemirror_mode": {
    "name": "ipython",
    "version": 3
   },
   "file_extension": ".py",
   "mimetype": "text/x-python",
   "name": "python",
   "nbconvert_exporter": "python",
   "pygments_lexer": "ipython3",
   "version": "3.9.6"
  }
 },
 "nbformat": 4,
 "nbformat_minor": 5
}
